{
  "nbformat": 4,
  "nbformat_minor": 0,
  "metadata": {
    "colab": {
      "name": "Multitask_LSTM.ipynb",
      "provenance": [],
      "collapsed_sections": []
    },
    "kernelspec": {
      "name": "python3",
      "display_name": "Python 3"
    },
    "accelerator": "GPU"
  },
  "cells": [
    {
      "cell_type": "code",
      "metadata": {
        "id": "K1M5i4ZVyruA",
        "colab_type": "code",
        "colab": {
          "base_uri": "https://localhost:8080/",
          "height": 90
        },
        "outputId": "0df8e012-e778-42a3-f34d-fcaa1d1ab5b3"
      },
      "source": [
        "import pandas as pd\n",
        "import numpy as np\n",
        "\n",
        "from keras import Sequential\n",
        "from keras.layers import LSTM,Dense,Dropout\n",
        "\n",
        "from sklearn.model_selection import train_test_split\n",
        "\n",
        "import matplotlib.pyplot as plt\n",
        "import seaborn as sns\n",
        "\n",
        "from sklearn.decomposition import FastICA\n"
      ],
      "execution_count": 1,
      "outputs": [
        {
          "output_type": "stream",
          "text": [
            "Using TensorFlow backend.\n",
            "/usr/local/lib/python3.6/dist-packages/statsmodels/tools/_testing.py:19: FutureWarning: pandas.util.testing is deprecated. Use the functions in the public API at pandas.testing instead.\n",
            "  import pandas.util.testing as tm\n"
          ],
          "name": "stderr"
        }
      ]
    },
    {
      "cell_type": "code",
      "metadata": {
        "id": "NFJp-RZ8zlOG",
        "colab_type": "code",
        "colab": {
          "base_uri": "https://localhost:8080/",
          "height": 137
        },
        "outputId": "3b427592-0693-4791-b160-4c63497cf1f8"
      },
      "source": [
        "file = pd.read_csv('Raw_TrainTest_MultiTasks.csv')\n",
        "df = pd.DataFrame(file)\n",
        "df.head(3)"
      ],
      "execution_count": 2,
      "outputs": [
        {
          "output_type": "execute_result",
          "data": {
            "text/html": [
              "<div>\n",
              "<style scoped>\n",
              "    .dataframe tbody tr th:only-of-type {\n",
              "        vertical-align: middle;\n",
              "    }\n",
              "\n",
              "    .dataframe tbody tr th {\n",
              "        vertical-align: top;\n",
              "    }\n",
              "\n",
              "    .dataframe thead th {\n",
              "        text-align: right;\n",
              "    }\n",
              "</style>\n",
              "<table border=\"1\" class=\"dataframe\">\n",
              "  <thead>\n",
              "    <tr style=\"text-align: right;\">\n",
              "      <th></th>\n",
              "      <th>AF3</th>\n",
              "      <th>F7</th>\n",
              "      <th>F3</th>\n",
              "      <th>FC5</th>\n",
              "      <th>T7</th>\n",
              "      <th>P7</th>\n",
              "      <th>O1</th>\n",
              "      <th>O2</th>\n",
              "      <th>P8</th>\n",
              "      <th>T8</th>\n",
              "      <th>FC6</th>\n",
              "      <th>F4</th>\n",
              "      <th>F8</th>\n",
              "      <th>AF4</th>\n",
              "      <th>class_</th>\n",
              "    </tr>\n",
              "  </thead>\n",
              "  <tbody>\n",
              "    <tr>\n",
              "      <th>0</th>\n",
              "      <td>4584.62</td>\n",
              "      <td>3902.05</td>\n",
              "      <td>4571.79</td>\n",
              "      <td>4589.23</td>\n",
              "      <td>4124.62</td>\n",
              "      <td>3825.13</td>\n",
              "      <td>4152.82</td>\n",
              "      <td>4579.49</td>\n",
              "      <td>4690.77</td>\n",
              "      <td>4260.00</td>\n",
              "      <td>4027.18</td>\n",
              "      <td>4385.13</td>\n",
              "      <td>4480.51</td>\n",
              "      <td>4230.77</td>\n",
              "      <td>2</td>\n",
              "    </tr>\n",
              "    <tr>\n",
              "      <th>1</th>\n",
              "      <td>4584.10</td>\n",
              "      <td>3895.90</td>\n",
              "      <td>4574.87</td>\n",
              "      <td>4567.69</td>\n",
              "      <td>4124.10</td>\n",
              "      <td>3827.18</td>\n",
              "      <td>4157.95</td>\n",
              "      <td>4585.13</td>\n",
              "      <td>4695.38</td>\n",
              "      <td>4268.21</td>\n",
              "      <td>4034.36</td>\n",
              "      <td>4380.00</td>\n",
              "      <td>4501.54</td>\n",
              "      <td>4197.44</td>\n",
              "      <td>2</td>\n",
              "    </tr>\n",
              "    <tr>\n",
              "      <th>2</th>\n",
              "      <td>4574.36</td>\n",
              "      <td>3893.85</td>\n",
              "      <td>4576.92</td>\n",
              "      <td>4572.82</td>\n",
              "      <td>4123.59</td>\n",
              "      <td>3829.23</td>\n",
              "      <td>4165.13</td>\n",
              "      <td>4590.26</td>\n",
              "      <td>4702.56</td>\n",
              "      <td>4281.54</td>\n",
              "      <td>4030.77</td>\n",
              "      <td>4366.67</td>\n",
              "      <td>4521.03</td>\n",
              "      <td>4176.41</td>\n",
              "      <td>2</td>\n",
              "    </tr>\n",
              "  </tbody>\n",
              "</table>\n",
              "</div>"
            ],
            "text/plain": [
              "       AF3       F7       F3      FC5  ...       F4       F8      AF4  class_\n",
              "0  4584.62  3902.05  4571.79  4589.23  ...  4385.13  4480.51  4230.77       2\n",
              "1  4584.10  3895.90  4574.87  4567.69  ...  4380.00  4501.54  4197.44       2\n",
              "2  4574.36  3893.85  4576.92  4572.82  ...  4366.67  4521.03  4176.41       2\n",
              "\n",
              "[3 rows x 15 columns]"
            ]
          },
          "metadata": {
            "tags": []
          },
          "execution_count": 2
        }
      ]
    },
    {
      "cell_type": "code",
      "metadata": {
        "id": "vhn-JT6j0AIR",
        "colab_type": "code",
        "colab": {
          "base_uri": "https://localhost:8080/",
          "height": 137
        },
        "outputId": "c78e0da3-be85-4ef3-e9a4-3f988a79c8b0"
      },
      "source": [
        "ica = FastICA()\n",
        "df_ica = pd.DataFrame(ica.fit_transform(df.drop('class_',axis=1)),columns=df.columns[:-1])\n",
        "df_ica.head(3)"
      ],
      "execution_count": 3,
      "outputs": [
        {
          "output_type": "execute_result",
          "data": {
            "text/html": [
              "<div>\n",
              "<style scoped>\n",
              "    .dataframe tbody tr th:only-of-type {\n",
              "        vertical-align: middle;\n",
              "    }\n",
              "\n",
              "    .dataframe tbody tr th {\n",
              "        vertical-align: top;\n",
              "    }\n",
              "\n",
              "    .dataframe thead th {\n",
              "        text-align: right;\n",
              "    }\n",
              "</style>\n",
              "<table border=\"1\" class=\"dataframe\">\n",
              "  <thead>\n",
              "    <tr style=\"text-align: right;\">\n",
              "      <th></th>\n",
              "      <th>AF3</th>\n",
              "      <th>F7</th>\n",
              "      <th>F3</th>\n",
              "      <th>FC5</th>\n",
              "      <th>T7</th>\n",
              "      <th>P7</th>\n",
              "      <th>O1</th>\n",
              "      <th>O2</th>\n",
              "      <th>P8</th>\n",
              "      <th>T8</th>\n",
              "      <th>FC6</th>\n",
              "      <th>F4</th>\n",
              "      <th>F8</th>\n",
              "      <th>AF4</th>\n",
              "    </tr>\n",
              "  </thead>\n",
              "  <tbody>\n",
              "    <tr>\n",
              "      <th>0</th>\n",
              "      <td>-0.000816</td>\n",
              "      <td>-0.000246</td>\n",
              "      <td>-0.001308</td>\n",
              "      <td>0.000346</td>\n",
              "      <td>0.001592</td>\n",
              "      <td>-0.000020</td>\n",
              "      <td>-0.000105</td>\n",
              "      <td>0.000781</td>\n",
              "      <td>-0.001112</td>\n",
              "      <td>-0.000289</td>\n",
              "      <td>0.000284</td>\n",
              "      <td>0.000452</td>\n",
              "      <td>0.001136</td>\n",
              "      <td>-0.000370</td>\n",
              "    </tr>\n",
              "    <tr>\n",
              "      <th>1</th>\n",
              "      <td>-0.000630</td>\n",
              "      <td>-0.000221</td>\n",
              "      <td>-0.001283</td>\n",
              "      <td>0.000301</td>\n",
              "      <td>0.001523</td>\n",
              "      <td>-0.000115</td>\n",
              "      <td>-0.000148</td>\n",
              "      <td>0.000797</td>\n",
              "      <td>-0.001127</td>\n",
              "      <td>-0.000362</td>\n",
              "      <td>0.000452</td>\n",
              "      <td>0.000401</td>\n",
              "      <td>0.001186</td>\n",
              "      <td>-0.000565</td>\n",
              "    </tr>\n",
              "    <tr>\n",
              "      <th>2</th>\n",
              "      <td>-0.000562</td>\n",
              "      <td>-0.000189</td>\n",
              "      <td>-0.001283</td>\n",
              "      <td>0.000304</td>\n",
              "      <td>0.001602</td>\n",
              "      <td>-0.000100</td>\n",
              "      <td>-0.000174</td>\n",
              "      <td>0.000958</td>\n",
              "      <td>-0.001153</td>\n",
              "      <td>-0.000336</td>\n",
              "      <td>0.000629</td>\n",
              "      <td>0.000422</td>\n",
              "      <td>0.001231</td>\n",
              "      <td>-0.000725</td>\n",
              "    </tr>\n",
              "  </tbody>\n",
              "</table>\n",
              "</div>"
            ],
            "text/plain": [
              "        AF3        F7        F3  ...        F4        F8       AF4\n",
              "0 -0.000816 -0.000246 -0.001308  ...  0.000452  0.001136 -0.000370\n",
              "1 -0.000630 -0.000221 -0.001283  ...  0.000401  0.001186 -0.000565\n",
              "2 -0.000562 -0.000189 -0.001283  ...  0.000422  0.001231 -0.000725\n",
              "\n",
              "[3 rows x 14 columns]"
            ]
          },
          "metadata": {
            "tags": []
          },
          "execution_count": 3
        }
      ]
    },
    {
      "cell_type": "code",
      "metadata": {
        "id": "lbJhm70WI_7X",
        "colab_type": "code",
        "colab": {}
      },
      "source": [
        "x_train,x_test,y_train,y_test = train_test_split(df_ica,df['class_'],test_size=0.2)\n",
        "\n",
        "x_train = np.reshape(np.array(x_train),(x_train.shape[0],1,x_train.shape[1]))\n",
        "x_test = np.reshape(np.array(x_test),(x_test.shape[0],1,x_test.shape[1]))\n",
        "\n",
        "y_train=np.reshape(np.array(y_train),(y_train.shape[0],1))\n",
        "y_test=np.reshape(np.array(y_test),(y_test.shape[0],1))"
      ],
      "execution_count": 4,
      "outputs": []
    },
    {
      "cell_type": "code",
      "metadata": {
        "id": "5FJch4JL2dUw",
        "colab_type": "code",
        "colab": {}
      },
      "source": [
        "model = Sequential()"
      ],
      "execution_count": 5,
      "outputs": []
    },
    {
      "cell_type": "code",
      "metadata": {
        "id": "H9H6xnbo0AQG",
        "colab_type": "code",
        "colab": {}
      },
      "source": [
        "model.add(LSTM(units=50,return_sequences=True,input_shape=(1,14),activation='sigmoid'))\n",
        "model.add(Dropout(0.2))\n",
        "\n",
        "model.add(LSTM(units=50,return_sequences=True,activation='sigmoid'))\n",
        "model.add(Dropout(0.2))\n",
        "\n",
        "model.add(LSTM(units=50,activation='sigmoid'))\n",
        "model.add(Dropout(0.2))\n",
        "\n",
        "model.add(Dense(units=1,activation='softmax'))\n",
        "\n",
        "model.compile(optimizer='adam',loss='binary_crossentropy',metrics=['accuracy'])"
      ],
      "execution_count": 6,
      "outputs": []
    },
    {
      "cell_type": "code",
      "metadata": {
        "id": "lsR2uIzF0AVS",
        "colab_type": "code",
        "colab": {
          "base_uri": "https://localhost:8080/",
          "height": 390
        },
        "outputId": "81f63d65-302d-4b72-e1a8-86bc9d114a82"
      },
      "source": [
        "model.fit(x_train,y_train,verbose=1,epochs=10,batch_size=150)"
      ],
      "execution_count": 11,
      "outputs": [
        {
          "output_type": "stream",
          "text": [
            "Epoch 1/10\n",
            "737280/737280 [==============================] - 97s 131us/step - loss: -8.3032 - accuracy: 0.4585\n",
            "Epoch 2/10\n",
            "737280/737280 [==============================] - 96s 130us/step - loss: -8.3032 - accuracy: 0.4585\n",
            "Epoch 3/10\n",
            "737280/737280 [==============================] - 95s 129us/step - loss: -8.3032 - accuracy: 0.4585\n",
            "Epoch 4/10\n",
            "737280/737280 [==============================] - 96s 130us/step - loss: -8.3032 - accuracy: 0.4585\n",
            "Epoch 5/10\n",
            "737280/737280 [==============================] - 95s 129us/step - loss: -8.3032 - accuracy: 0.4585\n",
            "Epoch 6/10\n",
            "737280/737280 [==============================] - 95s 129us/step - loss: -8.3032 - accuracy: 0.4585\n",
            "Epoch 7/10\n",
            "737280/737280 [==============================] - 94s 128us/step - loss: -8.3032 - accuracy: 0.4585\n",
            "Epoch 8/10\n",
            "737280/737280 [==============================] - 94s 127us/step - loss: -8.3032 - accuracy: 0.4585\n",
            "Epoch 9/10\n",
            "737280/737280 [==============================] - 94s 128us/step - loss: -8.3032 - accuracy: 0.4585\n",
            "Epoch 10/10\n",
            "737280/737280 [==============================] - 94s 128us/step - loss: -8.3032 - accuracy: 0.4585\n"
          ],
          "name": "stdout"
        },
        {
          "output_type": "execute_result",
          "data": {
            "text/plain": [
              "<keras.callbacks.callbacks.History at 0x7f816543c470>"
            ]
          },
          "metadata": {
            "tags": []
          },
          "execution_count": 11
        }
      ]
    },
    {
      "cell_type": "code",
      "metadata": {
        "id": "20fgnUgQ4KQK",
        "colab_type": "code",
        "colab": {
          "base_uri": "https://localhost:8080/",
          "height": 407
        },
        "outputId": "86f96917-927c-4867-eccf-8fa56b273593"
      },
      "source": [
        "model.summary()"
      ],
      "execution_count": 12,
      "outputs": [
        {
          "output_type": "stream",
          "text": [
            "Model: \"sequential_1\"\n",
            "_________________________________________________________________\n",
            "Layer (type)                 Output Shape              Param #   \n",
            "=================================================================\n",
            "lstm_1 (LSTM)                (None, 1, 50)             13000     \n",
            "_________________________________________________________________\n",
            "dropout_1 (Dropout)          (None, 1, 50)             0         \n",
            "_________________________________________________________________\n",
            "lstm_2 (LSTM)                (None, 1, 50)             20200     \n",
            "_________________________________________________________________\n",
            "dropout_2 (Dropout)          (None, 1, 50)             0         \n",
            "_________________________________________________________________\n",
            "lstm_3 (LSTM)                (None, 50)                20200     \n",
            "_________________________________________________________________\n",
            "dropout_3 (Dropout)          (None, 50)                0         \n",
            "_________________________________________________________________\n",
            "dense_1 (Dense)              (None, 1)                 51        \n",
            "=================================================================\n",
            "Total params: 53,451\n",
            "Trainable params: 53,451\n",
            "Non-trainable params: 0\n",
            "_________________________________________________________________\n"
          ],
          "name": "stdout"
        }
      ]
    },
    {
      "cell_type": "code",
      "metadata": {
        "id": "pwep_ewkFKh6",
        "colab_type": "code",
        "colab": {
          "base_uri": "https://localhost:8080/",
          "height": 52
        },
        "outputId": "447ac853-6b8e-4227-9f43-0210b5df6f2d"
      },
      "source": [
        "model.evaluate(x_test,y_test)"
      ],
      "execution_count": 13,
      "outputs": [
        {
          "output_type": "stream",
          "text": [
            "184320/184320 [==============================] - 17s 95us/step\n"
          ],
          "name": "stdout"
        },
        {
          "output_type": "execute_result",
          "data": {
            "text/plain": [
              "[-8.26910484958854, 0.4577365517616272]"
            ]
          },
          "metadata": {
            "tags": []
          },
          "execution_count": 13
        }
      ]
    },
    {
      "cell_type": "code",
      "metadata": {
        "id": "7k_VcLm2RjP5",
        "colab_type": "code",
        "colab": {
          "base_uri": "https://localhost:8080/",
          "height": 158
        },
        "outputId": "2cdd620c-b53d-4b99-ea6a-988c3d1263bb"
      },
      "source": [
        "model.predict_classes(x_test,verbose=1)"
      ],
      "execution_count": 14,
      "outputs": [
        {
          "output_type": "stream",
          "text": [
            "184320/184320 [==============================] - 12s 66us/step\n"
          ],
          "name": "stdout"
        },
        {
          "output_type": "execute_result",
          "data": {
            "text/plain": [
              "array([[1],\n",
              "       [1],\n",
              "       [1],\n",
              "       ...,\n",
              "       [1],\n",
              "       [1],\n",
              "       [1]], dtype=int32)"
            ]
          },
          "metadata": {
            "tags": []
          },
          "execution_count": 14
        }
      ]
    }
  ]
}